{
 "cells": [
  {
   "cell_type": "code",
   "execution_count": 7,
   "id": "c5bacabd",
   "metadata": {},
   "outputs": [],
   "source": [
    "import psycopg2\n",
    "from tabulate import tabulate"
   ]
  },
  {
   "cell_type": "code",
   "execution_count": 8,
   "id": "e75a723e",
   "metadata": {},
   "outputs": [
    {
     "name": "stdout",
     "output_type": "stream",
     "text": [
      "<connection object at 0x000001B9D47B97A0; dsn: 'user=postgres password=xxx dbname=cs623 host=localhost', closed: 0>\n"
     ]
    }
   ],
   "source": [
    "con = psycopg2.connect(\n",
    "    host=\"localhost\",\n",
    "    database=\"cs623\",\n",
    "    user=\"postgres\",\n",
    "    password=\"L012348\")\n",
    "print(con)"
   ]
  },
  {
   "cell_type": "code",
   "execution_count": 9,
   "id": "ef4b7777",
   "metadata": {},
   "outputs": [],
   "source": [
    "#For isolation: SERIALIZABLE\n",
    "con.set_isolation_level(3)\n",
    "#For atomicity\n",
    "con.autocommit = False"
   ]
  },
  {
   "cell_type": "code",
   "execution_count": 10,
   "id": "746f65c1",
   "metadata": {},
   "outputs": [
    {
     "name": "stdout",
     "output_type": "stream",
     "text": [
      "PostgreSQL connection is now closed\n"
     ]
    }
   ],
   "source": [
    "#2. The depot d1 is deleted from Depot and Stock.\n",
    "\n",
    "try:\n",
    "    cur = con.cursor()\n",
    "    cur.execute(\"DELETE FROM depot WHERE depid = 'd1'\")\n",
    "\n",
    "    \n",
    "except (Exception, psycopg2.DatabaseError) as err:\n",
    "    print(err)\n",
    "    print(\"Transactions could not be completed so database will be rolled back before start of transactions\")\n",
    "    con.rollback()\n",
    "    \n",
    "finally:\n",
    "    if con:\n",
    "        con.commit()\n",
    "        cur.close\n",
    "        con.close\n",
    "        print(\"PostgreSQL connection is now closed\")"
   ]
  },
  {
   "cell_type": "code",
   "execution_count": 11,
   "id": "ca726d0e",
   "metadata": {},
   "outputs": [
    {
     "name": "stdout",
     "output_type": "stream",
     "text": [
      "PostgreSQL connection is now closed\n"
     ]
    }
   ],
   "source": [
    "#4. The depot d2 changes its name to dd2 in Depot and Stock..\n",
    "\n",
    "try:\n",
    "    cur = con.cursor()\n",
    "    cur.execute(\"UPDATE Depot SET depid = 'dd2' WHERE depid = 'd2'\")\n",
    "\n",
    "except (Exception, psycopg2.DatabaseError) as err:\n",
    "    print(err)\n",
    "    print(\"Transactions could not be completed so database will be rolled back before start of transactions\")\n",
    "    con.rollback()\n",
    "    \n",
    "finally:\n",
    "    if con:\n",
    "        con.commit()\n",
    "        cur.close\n",
    "        con.close\n",
    "        print(\"PostgreSQL connection is now closed\")"
   ]
  },
  {
   "cell_type": "code",
   "execution_count": 12,
   "id": "dfec8e74",
   "metadata": {},
   "outputs": [
    {
     "name": "stdout",
     "output_type": "stream",
     "text": [
      "PostgreSQL connection is now closed\n"
     ]
    }
   ],
   "source": [
    "#6.We add a depot (d100, Chicago, 100) in Depot and (p1, d100, 100) in Stock.\n",
    "\n",
    "try:\n",
    "    cur = con.cursor()\n",
    "    cur.execute(\"INSERT INTO Depot (depid, addr, volume) VALUES ('d100', 'Chicago', 100)\")\n",
    "    cur.execute(\"INSERT INTO Stock (prodid, depid, quantity) VALUES ('p1', 'd100', 100)\")\n",
    "    \n",
    "except (Exception, psycopg2.DatabaseError) as err:\n",
    "    print(err)\n",
    "    print(\"Transactions could not be completed so database will be rolled back before start of transactions\")\n",
    "    con.rollback()\n",
    "    \n",
    "finally:\n",
    "    if con:\n",
    "        con.commit()\n",
    "        cur.close\n",
    "        con.close\n",
    "        print(\"PostgreSQL connection is now closed\")"
   ]
  },
  {
   "cell_type": "code",
   "execution_count": null,
   "id": "cf1e497f",
   "metadata": {},
   "outputs": [],
   "source": []
  }
 ],
 "metadata": {
  "kernelspec": {
   "display_name": "Python 3 (ipykernel)",
   "language": "python",
   "name": "python3"
  },
  "language_info": {
   "codemirror_mode": {
    "name": "ipython",
    "version": 3
   },
   "file_extension": ".py",
   "mimetype": "text/x-python",
   "name": "python",
   "nbconvert_exporter": "python",
   "pygments_lexer": "ipython3",
   "version": "3.10.9"
  }
 },
 "nbformat": 4,
 "nbformat_minor": 5
}
